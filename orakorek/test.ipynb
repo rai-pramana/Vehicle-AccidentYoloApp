{
 "cells": [
  {
   "cell_type": "code",
   "execution_count": 4,
   "metadata": {},
   "outputs": [],
   "source": [
    "all_classes = {\"test1\", \"test2\", \"test3\"}\n",
    "vehicle_classes = {\"bus\", \"car\", \"motorcycle\", \"truck\"}\n",
    "accident_classes = set(all_classes) - vehicle_classes"
   ]
  },
  {
   "cell_type": "code",
   "execution_count": 5,
   "metadata": {},
   "outputs": [
    {
     "name": "stdout",
     "output_type": "stream",
     "text": [
      "All classes: {'test1', 'test2', 'test3'}\n",
      "Vehicle classes: {'bus', 'car', 'motorcycle', 'truck'}\n",
      "Accident classes: {'test1', 'test2', 'test3'}\n"
     ]
    }
   ],
   "source": [
    "print(\"All classes:\", all_classes)\n",
    "print(\"Vehicle classes:\", vehicle_classes)\n",
    "print(\"Accident classes:\", accident_classes)"
   ]
  },
  {
   "cell_type": "code",
   "execution_count": null,
   "metadata": {},
   "outputs": [],
   "source": [
    "import cv2\n",
    "import streamlit as st\n",
    "import time\n",
    "\n",
    "def main():\n",
    "    st.title(\"Webcam Live Feed\")\n",
    "    run = st.checkbox('Run')\n",
    "    FRAME_WINDOW = st.image([])\n",
    "    camera = cv2.VideoCapture(1)\n",
    "    print(camera.get(cv2.CAP_PROP_FRAME_WIDTH))\n",
    "    print(camera.get(cv2.CAP_PROP_FRAME_HEIGHT))\n",
    "    print(f\"cv2.CAP_PROP_FPS: {camera.get(cv2.CAP_PROP_FPS)}\")\n",
    "\n",
    "    while run:\n",
    "        _, frame = camera.read()\n",
    "        frame = cv2.cvtColor(frame, cv2.COLOR_BGR2RGB)\n",
    "        FRAME_WINDOW.image(frame)\n",
    "\n",
    "        frame_count = 0\n",
    "        start_time = time.time()\n",
    "\n",
    "        while frame_count < 100:\n",
    "            ret, frame = camera.read()\n",
    "            if not ret:\n",
    "                break\n",
    "            frame_count += 1\n",
    "\n",
    "        elapsed_time = time.time() - start_time\n",
    "        actual_fps = frame_count / elapsed_time\n",
    "        print(f\"Actual FPS: {actual_fps}\")\n",
    "\n",
    "    else:\n",
    "        st.write('Stopped')"
   ]
  },
  {
   "cell_type": "code",
   "execution_count": null,
   "metadata": {},
   "outputs": [],
   "source": [
    "_, frame = camera.read()\n",
    "frame = cv2.cvtColor(frame, cv2.COLOR_BGR2RGB)\n",
    "frame = cv2.cvtColor(frame, cv2.COLOR_BGR2RGB)\n",
    "frame_count = 0\n",
    "start_time = t.time()\n",
    "while frame_count < 100:\n",
    "    ret, frame = camera.read()\n",
    "    if not ret:\n",
    "        break\n",
    "    frame_count += 1\n",
    "elapsed_time = t.time() - start_time\n",
    "actual_fps = frame_count / elapsed_time\n",
    "\n",
    "# Dapatkan FPS dari webcam FPS = camera.get(cv2.CAP_PROP_FPS) #5\n",
    "FPS = actual_fps  # Default FPS \n",
    "print(f\"FPS: {FPS}\")\n",
    "print(f\"camera.get(cv2.CAP_PROP_FPS): {camera.get(cv2.CAP_PROP_FPS)}\")"
   ]
  }
 ],
 "metadata": {
  "kernelspec": {
   "display_name": "gpu",
   "language": "python",
   "name": "python3"
  },
  "language_info": {
   "codemirror_mode": {
    "name": "ipython",
    "version": 3
   },
   "file_extension": ".py",
   "mimetype": "text/x-python",
   "name": "python",
   "nbconvert_exporter": "python",
   "pygments_lexer": "ipython3",
   "version": "3.12.7"
  }
 },
 "nbformat": 4,
 "nbformat_minor": 2
}
