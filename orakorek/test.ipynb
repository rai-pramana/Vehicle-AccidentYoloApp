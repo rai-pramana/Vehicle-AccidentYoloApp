{
 "cells": [
  {
   "cell_type": "code",
   "execution_count": 4,
   "metadata": {},
   "outputs": [],
   "source": [
    "all_classes = {\"test1\", \"test2\", \"test3\"}\n",
    "vehicle_classes = {\"bus\", \"car\", \"motorcycle\", \"truck\"}\n",
    "accident_classes = set(all_classes) - vehicle_classes"
   ]
  },
  {
   "cell_type": "code",
   "execution_count": 5,
   "metadata": {},
   "outputs": [
    {
     "name": "stdout",
     "output_type": "stream",
     "text": [
      "All classes: {'test1', 'test2', 'test3'}\n",
      "Vehicle classes: {'bus', 'car', 'motorcycle', 'truck'}\n",
      "Accident classes: {'test1', 'test2', 'test3'}\n"
     ]
    }
   ],
   "source": [
    "print(\"All classes:\", all_classes)\n",
    "print(\"Vehicle classes:\", vehicle_classes)\n",
    "print(\"Accident classes:\", accident_classes)"
   ]
  },
  {
   "cell_type": "code",
   "execution_count": null,
   "metadata": {},
   "outputs": [],
   "source": [
    "import cv2\n",
    "import streamlit as st\n",
    "import time\n",
    "\n",
    "def main():\n",
    "    st.title(\"Webcam Live Feed\")\n",
    "    run = st.checkbox('Run')\n",
    "    FRAME_WINDOW = st.image([])\n",
    "    camera = cv2.VideoCapture(1)\n",
    "    print(camera.get(cv2.CAP_PROP_FRAME_WIDTH))\n",
    "    print(camera.get(cv2.CAP_PROP_FRAME_HEIGHT))\n",
    "    print(f\"cv2.CAP_PROP_FPS: {camera.get(cv2.CAP_PROP_FPS)}\")\n",
    "\n",
    "    while run:\n",
    "        _, frame = camera.read()\n",
    "        frame = cv2.cvtColor(frame, cv2.COLOR_BGR2RGB)\n",
    "        FRAME_WINDOW.image(frame)\n",
    "\n",
    "        frame_count = 0\n",
    "        start_time = time.time()\n",
    "\n",
    "        while frame_count < 100:\n",
    "            ret, frame = camera.read()\n",
    "            if not ret:\n",
    "                break\n",
    "            frame_count += 1\n",
    "\n",
    "        elapsed_time = time.time() - start_time\n",
    "        actual_fps = frame_count / elapsed_time\n",
    "        print(f\"Actual FPS: {actual_fps}\")\n",
    "\n",
    "    else:\n",
    "        st.write('Stopped')"
   ]
  },
  {
   "cell_type": "code",
   "execution_count": null,
   "metadata": {},
   "outputs": [],
   "source": [
    "_, frame = camera.read()\n",
    "frame = cv2.cvtColor(frame, cv2.COLOR_BGR2RGB)\n",
    "frame = cv2.cvtColor(frame, cv2.COLOR_BGR2RGB)\n",
    "frame_count = 0\n",
    "start_time = t.time()\n",
    "while frame_count < 100:\n",
    "    ret, frame = camera.read()\n",
    "    if not ret:\n",
    "        break\n",
    "    frame_count += 1\n",
    "elapsed_time = t.time() - start_time\n",
    "actual_fps = frame_count / elapsed_time\n",
    "\n",
    "# Dapatkan FPS dari webcam FPS = camera.get(cv2.CAP_PROP_FPS) #5\n",
    "FPS = actual_fps  # Default FPS \n",
    "print(f\"FPS: {FPS}\")\n",
    "print(f\"camera.get(cv2.CAP_PROP_FPS): {camera.get(cv2.CAP_PROP_FPS)}\")"
   ]
  },
  {
   "cell_type": "code",
   "execution_count": 2,
   "metadata": {},
   "outputs": [
    {
     "name": "stdout",
     "output_type": "stream",
     "text": [
      "Koordinat baru: [[ 928  591]\n",
      " [1548  634]\n",
      " [1452 1075]\n",
      " [ 360  999]]\n"
     ]
    }
   ],
   "source": [
    "import numpy as np\n",
    "\n",
    "def convert_coordinates(coords, old_res, new_res):\n",
    "    \"\"\"\n",
    "    Mengonversi koordinat dari resolusi asli ke resolusi target.\n",
    "\n",
    "    Args:\n",
    "        coords (np.ndarray): Array koordinat dengan bentuk (N, 2).\n",
    "        old_res (tuple): Resolusi asli (width, height).\n",
    "        new_res (tuple): Resolusi target (width, height).\n",
    "\n",
    "    Returns:\n",
    "        np.ndarray: Koordinat baru pada resolusi target.\n",
    "    \"\"\"\n",
    "    old_width, old_height = old_res\n",
    "    new_width, new_height = new_res\n",
    "\n",
    "    scale_x = new_width / old_width\n",
    "    scale_y = new_height / old_height\n",
    "\n",
    "    # Skalakan koordinat\n",
    "    converted_coords = coords * np.array([scale_x, scale_y])\n",
    "    return converted_coords.astype(int)\n",
    "\n",
    "\n",
    "# Koordinat asli\n",
    "source_coords = np.array([\n",
    "    [619, 394],\n",
    "    [1032, 423],\n",
    "    [968, 717],\n",
    "    [240, 666]\n",
    "])\n",
    "\n",
    "# Resolusi asli dan target\n",
    "old_resolution = (1280, 720)\n",
    "new_resolution = (1920, 1080)\n",
    "\n",
    "# Konversi koordinat\n",
    "converted_coords = convert_coordinates(source_coords, old_resolution, new_resolution)\n",
    "print(\"Koordinat baru:\", converted_coords)\n"
   ]
  },
  {
   "cell_type": "code",
   "execution_count": 1,
   "metadata": {},
   "outputs": [
    {
     "name": "stdout",
     "output_type": "stream",
     "text": [
      "[(290, 197), (516, 211), (484, 358), (100, 333)]\n"
     ]
    }
   ],
   "source": [
    "def scale_coordinates(coords, old_res, new_res):\n",
    "    scale_x = new_res[0] / old_res[0]\n",
    "    scale_y = new_res[1] / old_res[1]\n",
    "    \n",
    "    return [(int(x * scale_x), int(y * scale_y)) for x, y in coords]\n",
    "\n",
    "# Koordinat asli\n",
    "coordinates_720p = [(580, 394), (1032, 423), (968, 717), (200, 666)]\n",
    "\n",
    "# Resolusi\n",
    "old_resolution = (1280, 720)  # 720p\n",
    "new_resolution = (640, 360)   # 360p\n",
    "\n",
    "# Konversi\n",
    "coordinates_360p = scale_coordinates(coordinates_720p, old_resolution, new_resolution)\n",
    "print(coordinates_360p)\n"
   ]
  }
 ],
 "metadata": {
  "kernelspec": {
   "display_name": "gpu",
   "language": "python",
   "name": "python3"
  },
  "language_info": {
   "codemirror_mode": {
    "name": "ipython",
    "version": 3
   },
   "file_extension": ".py",
   "mimetype": "text/x-python",
   "name": "python",
   "nbconvert_exporter": "python",
   "pygments_lexer": "ipython3",
   "version": "3.12.7"
  }
 },
 "nbformat": 4,
 "nbformat_minor": 2
}
