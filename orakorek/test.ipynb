{
 "cells": [
  {
   "cell_type": "code",
   "execution_count": 4,
   "metadata": {},
   "outputs": [],
   "source": [
    "all_classes = {\"test1\", \"test2\", \"test3\"}\n",
    "vehicle_classes = {\"bus\", \"car\", \"motorcycle\", \"truck\"}\n",
    "accident_classes = set(all_classes) - vehicle_classes"
   ]
  },
  {
   "cell_type": "code",
   "execution_count": 5,
   "metadata": {},
   "outputs": [
    {
     "name": "stdout",
     "output_type": "stream",
     "text": [
      "All classes: {'test1', 'test2', 'test3'}\n",
      "Vehicle classes: {'bus', 'car', 'motorcycle', 'truck'}\n",
      "Accident classes: {'test1', 'test2', 'test3'}\n"
     ]
    }
   ],
   "source": [
    "print(\"All classes:\", all_classes)\n",
    "print(\"Vehicle classes:\", vehicle_classes)\n",
    "print(\"Accident classes:\", accident_classes)"
   ]
  }
 ],
 "metadata": {
  "kernelspec": {
   "display_name": "gpu",
   "language": "python",
   "name": "python3"
  },
  "language_info": {
   "codemirror_mode": {
    "name": "ipython",
    "version": 3
   },
   "file_extension": ".py",
   "mimetype": "text/x-python",
   "name": "python",
   "nbconvert_exporter": "python",
   "pygments_lexer": "ipython3",
   "version": "3.12.7"
  }
 },
 "nbformat": 4,
 "nbformat_minor": 2
}
