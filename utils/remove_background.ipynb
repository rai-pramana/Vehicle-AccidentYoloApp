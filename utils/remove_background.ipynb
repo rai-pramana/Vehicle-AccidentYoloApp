{
 "cells": [
  {
   "cell_type": "code",
   "execution_count": 1,
   "metadata": {},
   "outputs": [],
   "source": [
    "import os\n",
    "import cv2\n",
    "import numpy as np\n",
    "from tqdm import tqdm"
   ]
  },
  {
   "cell_type": "code",
   "execution_count": 10,
   "metadata": {},
   "outputs": [],
   "source": [
    "# Path dataset\n",
    "train_images_path = 'vehicle-accident/train/images/'\n",
    "train_labels_path = 'vehicle-accident/train/labels/'\n",
    "\n",
    "valid_images_path = 'vehicle-accident/valid/images/'\n",
    "valid_labels_path = 'vehicle-accident/valid/labels/'\n",
    "\n",
    "output_train_path = 'remove_background/train/'\n",
    "output_valid_path = 'remove_background/valid/'\n",
    "\n",
    "os.makedirs(output_train_path, exist_ok=True)\n",
    "os.makedirs(output_valid_path, exist_ok=True)"
   ]
  },
  {
   "cell_type": "code",
   "execution_count": null,
   "metadata": {},
   "outputs": [],
   "source": [
    "# Function to read bounding box from YOLO label file\n",
    "def read_bounding_boxes(label_file):\n",
    "    bounding_boxes = []\n",
    "\n",
    "    with open(label_file, 'r') as f:\n",
    "        lines = f.readlines()\n",
    "\n",
    "        for line in lines:\n",
    "            parts = line.strip().split()\n",
    "            class_id = int(parts[0])\n",
    "            x_center, y_center, width, height = map(float, parts[1:])\n",
    "            bounding_boxes.append((class_id, x_center, y_center, width, height))\n",
    "    return bounding_boxes"
   ]
  },
  {
   "cell_type": "code",
   "execution_count": null,
   "metadata": {},
   "outputs": [],
   "source": [
    "# Function to remove background outside the bounding box\n",
    "def remove_background(image, bounding_boxes):\n",
    "    h, w, _ = image.shape\n",
    "    mask = np.zeros_like(image, dtype=np.uint8)\n",
    "\n",
    "    for _, x_center, y_center, width, height in bounding_boxes:\n",
    "        x1 = int((x_center - width / 2) * w)\n",
    "        y1 = int((y_center - height / 2) * h)\n",
    "        x2 = int((x_center + width / 2) * w)\n",
    "        y2 = int((y_center + height / 2) * h)\n",
    "        \n",
    "        # Fill the mask with the bounding box area\n",
    "        mask[y1:y2, x1:x2] = image[y1:y2, x1:x2]\n",
    "        \n",
    "    return mask"
   ]
  },
  {
   "cell_type": "code",
   "execution_count": null,
   "metadata": {},
   "outputs": [],
   "source": [
    "# Process Dataset\n",
    "def process_dataset(images_path, labels_path, output_path):\n",
    "    for img_file in tqdm(os.listdir(images_path)):\n",
    "        img_path = os.path.join(images_path, img_file)\n",
    "        label_file = os.path.join(labels_path,\n",
    "        img_file.replace('.jpg', '.txt'))\n",
    "        output_file = os.path.join(output_path, img_file)\n",
    "        \n",
    "        if not os.path.exists(label_file):\n",
    "            continue\n",
    "\n",
    "        # Read images and labels\n",
    "        image = cv2.imread(img_path)\n",
    "        bounding_boxes = read_bounding_boxes(label_file)\n",
    "\n",
    "        # The process to remove the background\n",
    "        result_image = remove_background(image, bounding_boxes)\n",
    "\n",
    "        # Save result\n",
    "        cv2.imwrite(output_file, result_image)"
   ]
  },
  {
   "cell_type": "code",
   "execution_count": 11,
   "metadata": {},
   "outputs": [
    {
     "name": "stdout",
     "output_type": "stream",
     "text": [
      "Processing train dataset...\n"
     ]
    },
    {
     "name": "stderr",
     "output_type": "stream",
     "text": [
      "100%|██████████| 12620/12620 [03:27<00:00, 60.72it/s]\n"
     ]
    },
    {
     "name": "stdout",
     "output_type": "stream",
     "text": [
      "Processing validation dataset...\n"
     ]
    },
    {
     "name": "stderr",
     "output_type": "stream",
     "text": [
      "100%|██████████| 902/902 [00:14<00:00, 63.29it/s]"
     ]
    },
    {
     "name": "stdout",
     "output_type": "stream",
     "text": [
      "Proses selesai. Hasil disimpan di remove_background\n"
     ]
    },
    {
     "name": "stderr",
     "output_type": "stream",
     "text": [
      "\n"
     ]
    }
   ],
   "source": [
    "print(\"Processing train dataset...\")\n",
    "process_dataset(train_images_path, train_labels_path,output_train_path)\n",
    "\n",
    "print(\"Processing validation dataset...\")\n",
    "process_dataset(valid_images_path, valid_labels_path,output_valid_path)\n",
    "\n",
    "print(\"Proses selesai. Hasil disimpan di remove_background\")"
   ]
  }
 ],
 "metadata": {
  "kernelspec": {
   "display_name": "gpu",
   "language": "python",
   "name": "python3"
  },
  "language_info": {
   "codemirror_mode": {
    "name": "ipython",
    "version": 3
   },
   "file_extension": ".py",
   "mimetype": "text/x-python",
   "name": "python",
   "nbconvert_exporter": "python",
   "pygments_lexer": "ipython3",
   "version": "3.12.7"
  }
 },
 "nbformat": 4,
 "nbformat_minor": 2
}
